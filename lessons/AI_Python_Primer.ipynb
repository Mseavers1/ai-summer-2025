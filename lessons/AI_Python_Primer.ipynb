{
  "nbformat": 4,
  "nbformat_minor": 0,
  "metadata": {
    "colab": {
      "provenance": []
    },
    "kernelspec": {
      "name": "python3",
      "display_name": "Python 3"
    },
    "language_info": {
      "name": "python"
    }
  },
  "cells": [
    {
      "cell_type": "markdown",
      "source": [
        "# Python Primer for AI Summer\n",
        "\n",
        "Use this document to improve or practice your Python and AI-Assisted Programming skills ahead of AI Summer.\n",
        "\n",
        "To interact with this notebook, copy it to your Google Drive: *File -> Save a Copy in Drive*\n",
        "\n",
        "## Python Lessons\n",
        "\n",
        "The following are ~10 minute video chapters on the foundations of Python. Proficiency in Python is not required for AI Summer, but we recommend you familiarize yourself to be able to read and understand Python code when needed. If you prefer to read the information, the Python [course textbook](http://do1.dr-chuck.com/pythonlearn/EN_us/pythonlearn.pdf) is an additional resource. We have listed the most important lessons below, but you are welcome to complete other lessons as well.\n",
        "\n",
        "Complete the following sections from FreeCodeCamp.org [Python For Everybody](https://www.freecodecamp.org/learn/python-for-everybody/) course:\n",
        "\n",
        "\n",
        "\n",
        "- [ ] [Introduction: Python as a Language](https://www.freecodecamp.org/learn/python-for-everybody/python-for-everybody/introduction-python-as-a-language) (7:48)\n",
        "\n",
        "- [ ] Introduction: Elements of Python (12:46)\n",
        "\n",
        "- [ ] Variables, Expressions, and Statements (9:41)\n",
        "\n",
        "- [ ] Conditional Execution (13:30)\n",
        "\n",
        "- [ ] Python Functions (10:30)\n",
        "\n",
        "- [ ] Loops and Iterations (9:59)\n",
        "\n",
        "- [ ] Python Lists (10:57)\n",
        "\n",
        "\n",
        "Complete the following sections from FreeCodeCamp.org [Data Analysis with Python](https://www.freecodecamp.org/learn/data-analysis-with-python/) course:\n",
        "\n",
        "\n",
        "- [ ] Data Analysis Example A (9:20)\n",
        "\n",
        "- [ ] How to use Jupyter Notebooks Intro (8:47)\n",
        "\n",
        "- [ ] Numpy Operations (5:03)\n",
        "\n",
        "- [ ] Pandas Introduction (8:07)\n",
        "\n",
        "- [ ] Pandas Indexing and Conditional Selection (9:20)\n",
        "\n",
        "- [ ] Pandas DataFrames (10:20)"
      ],
      "metadata": {
        "id": "xhm8XUs7QsRV"
      }
    },
    {
      "cell_type": "markdown",
      "source": [
        "## AI-Assisted Programming\n",
        "\n",
        "For the following exercises, write the described program using AI-Assisted programing with the model of your choice. Practice good prompt engineering. Make sure you understand each line of the code the model generates. If you do not understand a line in the code, ask the model to explain that line."
      ],
      "metadata": {
        "id": "_60t3KGLTGKZ"
      }
    },
    {
      "cell_type": "markdown",
      "source": [
        "**Exercise 1**: Basic Python Syntax\n",
        "\n",
        "*Objective:* Learn to print and manipulate strings.\n",
        "\n",
        "*Description*: Write a Python program that asks for the user's name and prints a welcome message that includes the name.\n",
        "\n",
        "*Generative AI Prompt:* Ask the AI for assistance programming the above task, then ask the AI to write a creative greeting template you can use in your program.\n",
        "\n"
      ],
      "metadata": {
        "id": "AaR3nhQvEECf"
      }
    },
    {
      "cell_type": "code",
      "execution_count": null,
      "metadata": {
        "id": "vtW7QewKQpSb"
      },
      "outputs": [],
      "source": []
    },
    {
      "cell_type": "markdown",
      "source": [
        "*Reflection:* How can you ask for user input in Python? How can you use that input to customize strings?"
      ],
      "metadata": {
        "id": "CZjbIQMvEV8z"
      }
    },
    {
      "cell_type": "markdown",
      "source": [
        "**Exercise 2:** Control Structures\n",
        "\n",
        "*Objective*: Understand conditional statements.\n",
        "\n",
        "*Description*: Write a Python script that checks if a number is positive, negative, or zero.\n",
        "\n",
        "*Generative AI Prompt*: Generate examples of how to explain the concept of \"if-else\" statements in Python."
      ],
      "metadata": {
        "id": "PMjnLCeFEd9e"
      }
    },
    {
      "cell_type": "code",
      "source": [],
      "metadata": {
        "id": "x5tTckDrEl96"
      },
      "execution_count": null,
      "outputs": []
    },
    {
      "cell_type": "markdown",
      "source": [
        "*Reflection:* How do if-else statements work in Python?"
      ],
      "metadata": {
        "id": "vyXGmVLXEYeQ"
      }
    },
    {
      "cell_type": "markdown",
      "source": [
        "**Exercise 3:** Functions\n",
        "\n",
        "*Objective:* Learn to create and use functions.\n",
        "\n",
        "*Description:* Create a function that takes a list of numbers and returns the average.\n",
        "\n",
        "*Generative AI Prompt*: Ask the AI for a step-by-step explanation on how to create a function in Python. Then, ask it to use those steps to create the described function.\n",
        "\n"
      ],
      "metadata": {
        "id": "kj-hyj--EwtT"
      }
    },
    {
      "cell_type": "code",
      "source": [],
      "metadata": {
        "id": "Oei9HzCIE5Uv"
      },
      "execution_count": null,
      "outputs": []
    },
    {
      "cell_type": "markdown",
      "source": [
        "*Reflection:* After writing a function, how do you call it? What happens if you call it multiple times?"
      ],
      "metadata": {
        "id": "v6kx8vJ-E5pG"
      }
    },
    {
      "cell_type": "markdown",
      "source": [
        "## Bonus: Creating a User Interface\n",
        "\n",
        "Let's say you want to share your code with others through a website or webapp. Two of the most common tools to create a UI in Python are Gradio and Streamlit.\n",
        "\n",
        "**Exercise 4:** User Interface\n",
        "\n",
        "*Objective*: Learn to create a user interface in Python\n",
        "\n",
        "*Description*: Create a user interface in either Gradio or Streamlit that allows a user to enter text into a text field and submit the text with a \"Submit\" button. Then, print what the user has entered to the screen.\n",
        "\n",
        "*Generative AI Prompt:* Ask the AI to generate Python code for the described user interface and tell it which library (gradio or streamlit) you would like to use."
      ],
      "metadata": {
        "id": "YbEsESPYIAvI"
      }
    },
    {
      "cell_type": "code",
      "source": [
        "# Installing UI libraries - comment out the one you don't use\n",
        "!pip install -q gradio\n",
        "#!pip install -q streamlit"
      ],
      "metadata": {
        "id": "0oCOidz8JIrN"
      },
      "execution_count": null,
      "outputs": []
    },
    {
      "cell_type": "code",
      "source": [],
      "metadata": {
        "id": "bgyO6z8gJJEi"
      },
      "execution_count": null,
      "outputs": []
    },
    {
      "cell_type": "markdown",
      "source": [
        "*Reflection*: Where can you host your webapp so that others can use it? Ask the AI tool for suggestions on hosting your webapp."
      ],
      "metadata": {
        "id": "GeDIfAf4JlbD"
      }
    }
  ]
}