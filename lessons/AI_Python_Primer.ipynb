{
 "nbformat": 4,
 "nbformat_minor": 0,
 "metadata": {
  "colab": {
   "provenance": []
  },
  "kernelspec": {
   "name": "python3",
   "display_name": "Python 3 (ipykernel)",
   "language": "python"
  },
  "language_info": {
   "name": "python"
  }
 },
 "cells": [
  {
   "cell_type": "markdown",
   "source": [
    "# Python Primer for AI Summer\n",
    "\n",
    "Use this document to improve or practice your Python and AI-Assisted Programming skills ahead of AI Summer.\n",
    "\n",
    "To interact with this notebook, copy it to your Google Drive: *File -> Save a Copy in Drive*\n",
    "\n",
    "## Python Lessons\n",
    "\n",
    "The following are ~10 minute video chapters on the foundations of Python. Proficiency in Python is not required for AI Summer, but we recommend you familiarize yourself to be able to read and understand Python code when needed. If you prefer to read the information, the Python [course textbook](http://do1.dr-chuck.com/pythonlearn/EN_us/pythonlearn.pdf) is an additional resource. We have listed the most important lessons below, but you are welcome to complete other lessons as well.\n",
    "\n",
    "Complete the following sections from FreeCodeCamp.org [Python For Everybody](https://www.freecodecamp.org/learn/python-for-everybody/) course:\n",
    "\n",
    "\n",
    "\n",
    "- [ ] [Introduction: Python as a Language](https://www.freecodecamp.org/learn/python-for-everybody/python-for-everybody/introduction-python-as-a-language) (7:48)\n",
    "\n",
    "- [ ] Introduction: Elements of Python (12:46)\n",
    "\n",
    "- [ ] Variables, Expressions, and Statements (9:41)\n",
    "\n",
    "- [ ] Conditional Execution (13:30)\n",
    "\n",
    "- [ ] Python Functions (10:30)\n",
    "\n",
    "- [ ] Loops and Iterations (9:59)\n",
    "\n",
    "- [ ] Python Lists (10:57)\n",
    "\n",
    "\n",
    "Complete the following sections from FreeCodeCamp.org [Data Analysis with Python](https://www.freecodecamp.org/learn/data-analysis-with-python/) course:\n",
    "\n",
    "\n",
    "- [ ] Data Analysis Example A (9:20)\n",
    "\n",
    "- [ ] How to use Jupyter Notebooks Intro (8:47)\n",
    "\n",
    "- [ ] Numpy Operations (5:03)\n",
    "\n",
    "- [ ] Pandas Introduction (8:07)\n",
    "\n",
    "- [ ] Pandas Indexing and Conditional Selection (9:20)\n",
    "\n",
    "- [ ] Pandas DataFrames (10:20)"
   ],
   "metadata": {
    "id": "xhm8XUs7QsRV"
   }
  },
  {
   "cell_type": "markdown",
   "source": [
    "## AI-Assisted Programming\n",
    "\n",
    "For the following exercises, write the described program using AI-Assisted programing with the model of your choice. Practice good prompt engineering. Make sure you understand each line of the code the model generates. If you do not understand a line in the code, ask the model to explain that line."
   ],
   "metadata": {
    "id": "_60t3KGLTGKZ"
   }
  },
  {
   "cell_type": "markdown",
   "source": [
    "**Exercise 1**: Basic Python Syntax\n",
    "\n",
    "*Objective:* Learn to print and manipulate strings.\n",
    "\n",
    "*Description*: Write a Python program that asks for the user's name and prints a welcome message that includes the name.\n",
    "\n",
    "*Generative AI Prompt:* Ask the AI for assistance programming the above task, then ask the AI to write a creative greeting template you can use in your program.\n",
    "\n"
   ],
   "metadata": {
    "id": "AaR3nhQvEECf"
   }
  },
  {
   "cell_type": "code",
   "metadata": {
    "id": "vtW7QewKQpSb",
    "ExecuteTime": {
     "end_time": "2025-05-06T03:35:51.203614Z",
     "start_time": "2025-05-06T03:35:48.075922Z"
    }
   },
   "source": [
    "name = input(\"What is your name?\")\n",
    "print(f\"🌟 Hello, {name}! The world is brighter with you in it. Let's make today awesome! 🌟\")"
   ],
   "outputs": [
    {
     "name": "stdout",
     "output_type": "stream",
     "text": [
      "🌟 Hello, Mike! The world is brighter with you in it. Let's make today awesome! 🌟\n"
     ]
    }
   ],
   "execution_count": 2
  },
  {
   "cell_type": "markdown",
   "source": [
    "*Reflection:* How can you ask for user input in Python? How can you use that input to customize strings?"
   ],
   "metadata": {
    "id": "CZjbIQMvEV8z"
   }
  },
  {
   "cell_type": "markdown",
   "source": [
    "**Exercise 2:** Control Structures\n",
    "\n",
    "*Objective*: Understand conditional statements.\n",
    "\n",
    "*Description*: Write a Python script that checks if a number is positive, negative, or zero.\n",
    "\n",
    "*Generative AI Prompt*: Generate examples of how to explain the concept of \"if-else\" statements in Python."
   ],
   "metadata": {
    "id": "PMjnLCeFEd9e"
   }
  },
  {
   "cell_type": "code",
   "source": [
    "value = float(input(\"Enter a number.\"))\n",
    "\n",
    "if value > 0:\n",
    "    print(\"This value is positive.\")\n",
    "elif value < 0:\n",
    "    print(\"This value is negative.\")\n",
    "else:\n",
    "    print(\"This value is zero.\")"
   ],
   "metadata": {
    "id": "x5tTckDrEl96",
    "ExecuteTime": {
     "end_time": "2025-05-06T03:37:55.727835Z",
     "start_time": "2025-05-06T03:37:52.704425Z"
    }
   },
   "outputs": [
    {
     "name": "stdout",
     "output_type": "stream",
     "text": [
      "This value is negative.\n"
     ]
    }
   ],
   "execution_count": 6
  },
  {
   "cell_type": "markdown",
   "source": [
    "*Reflection:* How do if-else statements work in Python?"
   ],
   "metadata": {
    "id": "vyXGmVLXEYeQ"
   }
  },
  {
   "cell_type": "markdown",
   "source": [
    "**Exercise 3:** Functions\n",
    "\n",
    "*Objective:* Learn to create and use functions.\n",
    "\n",
    "*Description:* Create a function that takes a list of numbers and returns the average.\n",
    "\n",
    "*Generative AI Prompt*: Ask the AI for a step-by-step explanation on how to create a function in Python. Then, ask it to use those steps to create the described function.\n",
    "\n"
   ],
   "metadata": {
    "id": "kj-hyj--EwtT"
   }
  },
  {
   "cell_type": "code",
   "source": [
    "def calculate_average(numbers):\n",
    "    total = 0\n",
    "    for number in numbers:\n",
    "        total += number\n",
    "    return total / len(numbers)\n",
    "\n",
    "print(calculate_average([1, 2, 3]))\n",
    "print(calculate_average([10, 5, 3]))"
   ],
   "metadata": {
    "id": "Oei9HzCIE5Uv",
    "ExecuteTime": {
     "end_time": "2025-05-06T03:40:09.358158Z",
     "start_time": "2025-05-06T03:40:09.352374Z"
    }
   },
   "outputs": [
    {
     "name": "stdout",
     "output_type": "stream",
     "text": [
      "2.0\n",
      "6.0\n"
     ]
    }
   ],
   "execution_count": 11
  },
  {
   "cell_type": "markdown",
   "source": [
    "*Reflection:* After writing a function, how do you call it? What happens if you call it multiple times?"
   ],
   "metadata": {
    "id": "v6kx8vJ-E5pG"
   }
  },
  {
   "cell_type": "markdown",
   "source": [
    "## Bonus: Creating a User Interface\n",
    "\n",
    "Let's say you want to share your code with others through a website or webapp. Two of the most common tools to create a UI in Python are Gradio and Streamlit.\n",
    "\n",
    "**Exercise 4:** User Interface\n",
    "\n",
    "*Objective*: Learn to create a user interface in Python\n",
    "\n",
    "*Description*: Create a user interface in either Gradio or Streamlit that allows a user to enter text into a text field and submit the text with a \"Submit\" button. Then, print what the user has entered to the screen.\n",
    "\n",
    "*Generative AI Prompt:* Ask the AI to generate Python code for the described user interface and tell it which library (gradio or streamlit) you would like to use."
   ],
   "metadata": {
    "id": "YbEsESPYIAvI"
   }
  },
  {
   "cell_type": "code",
   "source": [
    "# Installing UI libraries - comment out the one you don't use\n",
    "!pip install -q gradio\n",
    "#!pip install -q streamlit"
   ],
   "metadata": {
    "id": "0oCOidz8JIrN",
    "ExecuteTime": {
     "end_time": "2025-05-06T03:41:40.738062Z",
     "start_time": "2025-05-06T03:41:17.737885Z"
    }
   },
   "outputs": [],
   "execution_count": 12
  },
  {
   "cell_type": "code",
   "source": [
    "import gradio as gr\n",
    "\n",
    "# Define a function that takes user input and returns it\n",
    "def greet_user(name):\n",
    "    return f\"You entered: {name}\"\n",
    "\n",
    "# Create a Gradio interface\n",
    "interface = gr.Interface(\n",
    "    fn=greet_user,\n",
    "    inputs=gr.Textbox(label=\"Enter your text here\"),\n",
    "    outputs=gr.Textbox(label=\"Output\"),\n",
    "    title=\"Simple Text Echo\",\n",
    "    description=\"Type something and click Submit!\"\n",
    ")\n",
    "\n",
    "# Launch the interface\n",
    "interface.launch()\n"
   ],
   "metadata": {
    "id": "bgyO6z8gJJEi",
    "ExecuteTime": {
     "end_time": "2025-05-06T03:44:25.569385Z",
     "start_time": "2025-05-06T03:44:19.798038Z"
    }
   },
   "outputs": [
    {
     "name": "stdout",
     "output_type": "stream",
     "text": [
      "* Running on local URL:  http://127.0.0.1:7860\n",
      "* To create a public link, set `share=True` in `launch()`.\n"
     ]
    },
    {
     "data": {
      "text/plain": [
       "<IPython.core.display.HTML object>"
      ],
      "text/html": [
       "<div><iframe src=\"http://127.0.0.1:7860/\" width=\"100%\" height=\"500\" allow=\"autoplay; camera; microphone; clipboard-read; clipboard-write;\" frameborder=\"0\" allowfullscreen></iframe></div>"
      ]
     },
     "metadata": {},
     "output_type": "display_data"
    },
    {
     "data": {
      "text/plain": []
     },
     "execution_count": 1,
     "metadata": {},
     "output_type": "execute_result"
    }
   ],
   "execution_count": 1
  },
  {
   "cell_type": "markdown",
   "source": [
    "*Reflection*: Where can you host your webapp so that others can use it? Ask the AI tool for suggestions on hosting your webapp."
   ],
   "metadata": {
    "id": "GeDIfAf4JlbD"
   }
  },
  {
   "metadata": {},
   "cell_type": "code",
   "outputs": [],
   "execution_count": null,
   "source": "# Answer: For Gradio Apps, you can use Hugging Face Spaces. It requires an account and a GitHub repo. There are some other limitations."
  }
 ]
}
