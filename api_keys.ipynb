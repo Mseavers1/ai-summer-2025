{
  "cells": [
    {
      "cell_type": "markdown",
      "metadata": {
        "id": "view-in-github",
        "colab_type": "text"
      },
      "source": [
        "<a href=\"https://colab.research.google.com/github/vanderbilt-data-science/ai-summer-2025/blob/main/api_keys.ipynb\" target=\"_parent\"><img src=\"https://colab.research.google.com/assets/colab-badge.svg\" alt=\"Open In Colab\"/></a>"
      ]
    },
    {
      "cell_type": "markdown",
      "metadata": {
        "id": "p8N9AgorWGHl"
      },
      "source": [
        "# API Keys: Best Practices for Security\n",
        "\n",
        "by Myranda U. Shirk\n",
        "Vanderbilt AI Summer 2025\n",
        "Made with help from Windsurf IDE :)"
      ]
    },
    {
      "cell_type": "markdown",
      "metadata": {
        "id": "nuX0qZCeWGHn"
      },
      "source": [
        "**What is an API Key?**\n",
        "\n",
        "An API key is a unique identifier that is used to authenticate a user or application when making requests to an API.\n",
        "\n",
        "**How do I use an API Key in my code?**\n",
        "\n",
        "In Python, you usually use an API key in your code by storing it in a variable and then passing it as a parameter to the API request. Some libraries will accept your API key as a parameter, while others will require you to set it as an environment variable. We'll look at examples of both.\n",
        "\n",
        "**General Guidelines for API Keys**\n",
        "\n",
        "1. Never hardcode your API key in your code. This is a security risk.\n",
        "2. Never commit your API key to a public (or even private!) repository.\n",
        "3. Never share your API key with anyone.\n",
        "4. Never expose your API key in a public place, such as a website or blog, or files that others can access."
      ]
    },
    {
      "cell_type": "markdown",
      "metadata": {
        "id": "t1WbjzeRWGHo"
      },
      "source": [
        "## Code Examples\n",
        "\n",
        "Here is one of the most common mistakes I see with API Keys."
      ]
    },
    {
      "cell_type": "code",
      "execution_count": null,
      "metadata": {
        "id": "VPHQTgEGWGHo"
      },
      "outputs": [],
      "source": [
        "import os\n",
        "\n",
        "# store api key\n",
        "\n",
        "my_example_api_key = \"asdfasdflkjf\"\n",
        "\n",
        "# set api key to environment variable\n",
        "\n",
        "os.environ[\"API_KEY\"] = my_example_api_key\n"
      ]
    },
    {
      "cell_type": "markdown",
      "metadata": {
        "id": "G0Pz98nSWGHp"
      },
      "source": [
        "*Question: What's wrong with this?*"
      ]
    },
    {
      "cell_type": "markdown",
      "metadata": {
        "id": "8d-leu5aWGHp"
      },
      "source": [
        "*Your Answer:*"
      ]
    },
    {
      "cell_type": "markdown",
      "metadata": {
        "id": "xdFaOMA5WGHq"
      },
      "source": [
        "Or this iteration:"
      ]
    },
    {
      "cell_type": "code",
      "execution_count": null,
      "metadata": {
        "id": "5FOY1MhhWGHq"
      },
      "outputs": [],
      "source": [
        "import requests\n",
        "\n",
        "# Example API endpoint\n",
        "url = \"https://api.example.com/data\"\n",
        "\n",
        "# Include the API key in the headers\n",
        "headers = {\n",
        "    \"Authorization\": f\"Bearer {my_example_api_key}\",\n",
        "    \"Content-Type\": \"application/json\"\n",
        "}\n",
        "\n",
        "# Make the GET request\n",
        "response = requests.get(url, headers=headers)\n"
      ]
    },
    {
      "cell_type": "markdown",
      "metadata": {
        "id": "N2T-oiUtWGHq"
      },
      "source": [
        "*Question: Now, what's wrong with this one?*"
      ]
    },
    {
      "cell_type": "markdown",
      "metadata": {
        "id": "FvJ0aTe4WGHq"
      },
      "source": [
        "You WILL be tempted to do this! Don't give in!"
      ]
    },
    {
      "cell_type": "markdown",
      "metadata": {
        "id": "5X8p2H-EWGHq"
      },
      "source": [
        "## Coding Best Practice\n",
        "\n",
        "Now let's look at how to do this the right way! I'll be using an easy password library called getpass. If you don't have it installed, use the below command to install it:\n",
        "\n",
        "pip install getpass"
      ]
    },
    {
      "cell_type": "code",
      "execution_count": null,
      "metadata": {
        "id": "DUY9kApsWGHr"
      },
      "outputs": [],
      "source": [
        "from getpass import getpass\n",
        "\n",
        "# when run, this will prompt you to enter the API key in the terminal\n",
        "\n",
        "my_example_api_key = getpass(\"Enter your API key: \")\n",
        "\n",
        "# set api key to environment variable\n",
        "\n",
        "os.environ[\"API_KEY\"] = my_example_api_key\n"
      ]
    },
    {
      "cell_type": "markdown",
      "metadata": {
        "id": "DCACcmJXWGHr"
      },
      "source": [
        "Let's look at a real example in HuggingFace."
      ]
    },
    {
      "cell_type": "code",
      "execution_count": null,
      "metadata": {
        "id": "Qfkxrw6yWGHr",
        "outputId": "db2e612a-1070-45e3-a565-cca7429e49e0"
      },
      "outputs": [
        {
          "name": "stdout",
          "output_type": "stream",
          "text": [
            "ModelInfo(id='NousResearch/Minos-v1', author='NousResearch', sha='edb1e8b7cc80a86cc356534948cca0ef4c46f8e2', created_at=datetime.datetime(2025, 4, 24, 4, 38, 23, tzinfo=datetime.timezone.utc), last_modified=datetime.datetime(2025, 4, 28, 21, 18, 50, tzinfo=datetime.timezone.utc), private=False, gated=False, disabled=None, downloads=1812, likes=111, library_name='transformers', tags=['transformers', 'safetensors', 'modernbert', 'text-classification', 'base_model:answerdotai/ModernBERT-large', 'base_model:finetune:answerdotai/ModernBERT-large', 'license:apache-2.0', 'autotrain_compatible', 'endpoints_compatible', 'region:us'], pipeline_tag='text-classification', mask_token=None, card_data=None, widget_data=None, model_index=None, config=None, transformers_info=None, siblings=[RepoSibling(rfilename='.gitattributes', size=None, blob_id=None, lfs=None), RepoSibling(rfilename='README.md', size=None, blob_id=None, lfs=None), RepoSibling(rfilename='config.json', size=None, blob_id=None, lfs=None), RepoSibling(rfilename='examples/inference_server.py', size=None, blob_id=None, lfs=None), RepoSibling(rfilename='model.safetensors', size=None, blob_id=None, lfs=None), RepoSibling(rfilename='special_tokens_map.json', size=None, blob_id=None, lfs=None), RepoSibling(rfilename='tokenizer.json', size=None, blob_id=None, lfs=None), RepoSibling(rfilename='tokenizer_config.json', size=None, blob_id=None, lfs=None)], spaces=None, safetensors=None)\n",
            "ModelInfo(id='meta-llama/Llama-Prompt-Guard-2-86M', author='meta-llama', sha='a8ded8e697ce7c355e395a0df51f94adb4a2fd27', created_at=datetime.datetime(2025, 4, 28, 7, 16, 35, tzinfo=datetime.timezone.utc), last_modified=datetime.datetime(2025, 4, 29, 15, 59, 55, tzinfo=datetime.timezone.utc), private=False, gated='manual', disabled=None, downloads=3339, likes=16, library_name='transformers', tags=['transformers', 'safetensors', 'deberta-v2', 'text-classification', 'facebook', 'meta', 'pytorch', 'llama', 'llama4', 'safety', 'en', 'fr', 'de', 'hi', 'it', 'pt', 'es', 'th', 'license:other', 'autotrain_compatible', 'endpoints_compatible', 'region:us'], pipeline_tag='text-classification', mask_token=None, card_data=None, widget_data=None, model_index=None, config=None, transformers_info=None, siblings=[RepoSibling(rfilename='.gitattributes', size=None, blob_id=None, lfs=None), RepoSibling(rfilename='LICENSE', size=None, blob_id=None, lfs=None), RepoSibling(rfilename='README.md', size=None, blob_id=None, lfs=None), RepoSibling(rfilename='USE_POLICY.md', size=None, blob_id=None, lfs=None), RepoSibling(rfilename='checklist.chk', size=None, blob_id=None, lfs=None), RepoSibling(rfilename='config.json', size=None, blob_id=None, lfs=None), RepoSibling(rfilename='model.safetensors', size=None, blob_id=None, lfs=None), RepoSibling(rfilename='special_tokens_map.json', size=None, blob_id=None, lfs=None), RepoSibling(rfilename='tokenizer.json', size=None, blob_id=None, lfs=None), RepoSibling(rfilename='tokenizer_config.json', size=None, blob_id=None, lfs=None)], spaces=None, safetensors=None)\n",
            "ModelInfo(id='meta-llama/Llama-Prompt-Guard-2-22M', author='meta-llama', sha='11614a155199674a0a95e6602d6ab0417b790ed0', created_at=datetime.datetime(2025, 4, 28, 7, 15, 58, tzinfo=datetime.timezone.utc), last_modified=datetime.datetime(2025, 4, 29, 15, 47, 24, tzinfo=datetime.timezone.utc), private=False, gated='manual', disabled=None, downloads=965, likes=11, library_name='transformers', tags=['transformers', 'safetensors', 'deberta-v2', 'text-classification', 'facebook', 'meta', 'pytorch', 'llama', 'llama4', 'safety', 'en', 'fr', 'de', 'hi', 'it', 'pt', 'es', 'th', 'license:other', 'autotrain_compatible', 'endpoints_compatible', 'region:us'], pipeline_tag='text-classification', mask_token=None, card_data=None, widget_data=None, model_index=None, config=None, transformers_info=None, siblings=[RepoSibling(rfilename='.gitattributes', size=None, blob_id=None, lfs=None), RepoSibling(rfilename='LICENSE', size=None, blob_id=None, lfs=None), RepoSibling(rfilename='MODEL_CARD.md', size=None, blob_id=None, lfs=None), RepoSibling(rfilename='README.md', size=None, blob_id=None, lfs=None), RepoSibling(rfilename='USE_POLICY.md', size=None, blob_id=None, lfs=None), RepoSibling(rfilename='checklist.chk', size=None, blob_id=None, lfs=None), RepoSibling(rfilename='config.json', size=None, blob_id=None, lfs=None), RepoSibling(rfilename='model.safetensors', size=None, blob_id=None, lfs=None), RepoSibling(rfilename='special_tokens_map.json', size=None, blob_id=None, lfs=None), RepoSibling(rfilename='tokenizer.json', size=None, blob_id=None, lfs=None), RepoSibling(rfilename='tokenizer_config.json', size=None, blob_id=None, lfs=None)], spaces=None, safetensors=None)\n",
            "ModelInfo(id='facebook/bart-large-mnli', author='facebook', sha='d7645e127eaf1aefc7862fd59a17a5aa8558b8ce', created_at=datetime.datetime(2022, 3, 3, 0, 29, 5, tzinfo=datetime.timezone.utc), last_modified=datetime.datetime(2023, 9, 5, 14, 49, 34, tzinfo=datetime.timezone.utc), private=False, gated=False, disabled=None, downloads=3380142, likes=1370, library_name='transformers', tags=['transformers', 'pytorch', 'jax', 'rust', 'safetensors', 'bart', 'text-classification', 'zero-shot-classification', 'dataset:multi_nli', 'arxiv:1910.13461', 'arxiv:1909.00161', 'license:mit', 'autotrain_compatible', 'endpoints_compatible', 'region:us'], pipeline_tag='zero-shot-classification', mask_token=None, card_data=None, widget_data=None, model_index=None, config=None, transformers_info=None, siblings=[RepoSibling(rfilename='.gitattributes', size=None, blob_id=None, lfs=None), RepoSibling(rfilename='README.md', size=None, blob_id=None, lfs=None), RepoSibling(rfilename='config.json', size=None, blob_id=None, lfs=None), RepoSibling(rfilename='flax_model.msgpack', size=None, blob_id=None, lfs=None), RepoSibling(rfilename='merges.txt', size=None, blob_id=None, lfs=None), RepoSibling(rfilename='model.safetensors', size=None, blob_id=None, lfs=None), RepoSibling(rfilename='pytorch_model.bin', size=None, blob_id=None, lfs=None), RepoSibling(rfilename='rust_model.ot', size=None, blob_id=None, lfs=None), RepoSibling(rfilename='tokenizer.json', size=None, blob_id=None, lfs=None), RepoSibling(rfilename='tokenizer_config.json', size=None, blob_id=None, lfs=None), RepoSibling(rfilename='vocab.json', size=None, blob_id=None, lfs=None)], spaces=None, safetensors=None)\n",
            "ModelInfo(id='j-hartmann/emotion-english-distilroberta-base', author='j-hartmann', sha='0e1cd914e3d46199ed785853e12b57304e04178b', created_at=datetime.datetime(2022, 3, 3, 0, 29, 5, tzinfo=datetime.timezone.utc), last_modified=datetime.datetime(2023, 1, 2, 14, 3, 10, tzinfo=datetime.timezone.utc), private=False, gated=False, disabled=None, downloads=1718478, likes=407, library_name='transformers', tags=['transformers', 'pytorch', 'tf', 'roberta', 'text-classification', 'distilroberta', 'sentiment', 'emotion', 'twitter', 'reddit', 'en', 'arxiv:2210.00434', 'autotrain_compatible', 'endpoints_compatible', 'region:us'], pipeline_tag='text-classification', mask_token=None, card_data=None, widget_data=None, model_index=None, config=None, transformers_info=None, siblings=[RepoSibling(rfilename='.gitattributes', size=None, blob_id=None, lfs=None), RepoSibling(rfilename='README.md', size=None, blob_id=None, lfs=None), RepoSibling(rfilename='config.json', size=None, blob_id=None, lfs=None), RepoSibling(rfilename='merges.txt', size=None, blob_id=None, lfs=None), RepoSibling(rfilename='pytorch_model.bin', size=None, blob_id=None, lfs=None), RepoSibling(rfilename='special_tokens_map.json', size=None, blob_id=None, lfs=None), RepoSibling(rfilename='tf_model.h5', size=None, blob_id=None, lfs=None), RepoSibling(rfilename='tokenizer.json', size=None, blob_id=None, lfs=None), RepoSibling(rfilename='tokenizer_config.json', size=None, blob_id=None, lfs=None), RepoSibling(rfilename='training_args.bin', size=None, blob_id=None, lfs=None), RepoSibling(rfilename='vocab.json', size=None, blob_id=None, lfs=None)], spaces=None, safetensors=None)\n"
          ]
        }
      ],
      "source": [
        "# import HF libraries\n",
        "from huggingface_hub import HfApi\n",
        "import os\n",
        "from getpass import getpass\n",
        "\n",
        "hf_token = getpass(\"Enter your Hugging Face token: \")\n",
        "\n",
        "#set env variable\n",
        "os.environ[\"HF_TOKEN\"] = hf_token\n",
        "\n",
        "\n",
        "\n",
        "# get list of models\n",
        "models = HfApi().list_models(filter=\"text-classification\")\n",
        "\n",
        "count = 0\n",
        "for model in models:\n",
        "\tprint(model)\n",
        "\tcount += 1\n",
        "\tif count == 5:\n",
        "\t\tbreak\n"
      ]
    }
  ],
  "metadata": {
    "kernelspec": {
      "display_name": "Python 3",
      "language": "python",
      "name": "python3"
    },
    "language_info": {
      "codemirror_mode": {
        "name": "ipython",
        "version": 3
      },
      "file_extension": ".py",
      "mimetype": "text/x-python",
      "name": "python",
      "nbconvert_exporter": "python",
      "pygments_lexer": "ipython3",
      "version": "3.9.0"
    },
    "colab": {
      "provenance": [],
      "include_colab_link": true
    }
  },
  "nbformat": 4,
  "nbformat_minor": 0
}